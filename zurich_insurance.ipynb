{
  "cells": [
    {
      "cell_type": "code",
      "execution_count": 10,
      "metadata": {
        "colab": {
          "base_uri": "https://localhost:8080/",
          "height": 35
        },
        "id": "3pXti0zl9-6j",
        "outputId": "ffa6e568-029c-4e11-e683-29e6c87b9eeb"
      },
      "outputs": [
        {
          "name": "stdout",
          "output_type": "stream",
          "text": [
            "Requirement already satisfied: numpy in c:\\programdata\\anaconda3\\envs\\atai\\lib\\site-packages (1.23.5)\n",
            "Requirement already satisfied: plotly in c:\\programdata\\anaconda3\\envs\\atai\\lib\\site-packages (5.11.0)\n",
            "Requirement already satisfied: tenacity>=6.2.0 in c:\\programdata\\anaconda3\\envs\\atai\\lib\\site-packages (from plotly) (8.1.0)\n"
          ]
        }
      ],
      "source": [
        "! pip install numpy\n",
        "! pip install plotly"
      ]
    },
    {
      "cell_type": "code",
      "execution_count": 11,
      "metadata": {},
      "outputs": [
        {
          "name": "stdout",
          "output_type": "stream",
          "text": [
            "Requirement already satisfied: nbformat in c:\\programdata\\anaconda3\\envs\\atai\\lib\\site-packages (5.10.4)\n",
            "Requirement already satisfied: fastjsonschema>=2.15 in c:\\programdata\\anaconda3\\envs\\atai\\lib\\site-packages (from nbformat) (2.20.0)\n",
            "Requirement already satisfied: traitlets>=5.1 in c:\\programdata\\anaconda3\\envs\\atai\\lib\\site-packages (from nbformat) (5.14.3)\n",
            "Requirement already satisfied: jupyter-core!=5.0.*,>=4.12 in c:\\programdata\\anaconda3\\envs\\atai\\lib\\site-packages (from nbformat) (5.7.2)\n",
            "Requirement already satisfied: jsonschema>=2.6 in c:\\programdata\\anaconda3\\envs\\atai\\lib\\site-packages (from nbformat) (4.23.0)\n",
            "Requirement already satisfied: rpds-py>=0.7.1 in c:\\programdata\\anaconda3\\envs\\atai\\lib\\site-packages (from jsonschema>=2.6->nbformat) (0.19.1)\n",
            "Requirement already satisfied: referencing>=0.28.4 in c:\\programdata\\anaconda3\\envs\\atai\\lib\\site-packages (from jsonschema>=2.6->nbformat) (0.35.1)\n",
            "Requirement already satisfied: attrs>=22.2.0 in c:\\programdata\\anaconda3\\envs\\atai\\lib\\site-packages (from jsonschema>=2.6->nbformat) (23.2.0)\n",
            "Requirement already satisfied: jsonschema-specifications>=2023.03.6 in c:\\programdata\\anaconda3\\envs\\atai\\lib\\site-packages (from jsonschema>=2.6->nbformat) (2023.12.1)\n",
            "Requirement already satisfied: platformdirs>=2.5 in c:\\programdata\\anaconda3\\envs\\atai\\lib\\site-packages (from jupyter-core!=5.0.*,>=4.12->nbformat) (4.2.2)\n",
            "Requirement already satisfied: pywin32>=300 in c:\\programdata\\anaconda3\\envs\\atai\\lib\\site-packages (from jupyter-core!=5.0.*,>=4.12->nbformat) (305.1)\n"
          ]
        }
      ],
      "source": [
        "! pip install nbformat"
      ]
    },
    {
      "cell_type": "code",
      "execution_count": 12,
      "metadata": {},
      "outputs": [
        {
          "data": {
            "text/plain": [
              "'\\nYou are wellcome to add more insurance products following the example above.\\n'"
            ]
          },
          "execution_count": 12,
          "metadata": {},
          "output_type": "execute_result"
        }
      ],
      "source": [
        "import numpy as np\n",
        "# student protect\n",
        "class Insurance():\n",
        "  def __init__(self, deductibles, price_per_month, copayment_rate, age_range=\"U25\"):\n",
        "    self.deductibles = deductibles\n",
        "    self.subscribe_fee = price_per_month * 12\n",
        "    self.copayment_rate = copayment_rate\n",
        "    self.age_range = age_range\n",
        "  def get_yearly_cost(self, bill_amount):\n",
        "    pass\n",
        "\n",
        "class StudyProtect(Insurance):\n",
        "\n",
        "  def __init__(self, deductibles, price_per_month):\n",
        "    self.plot_line='-'\n",
        "    super().__init__(deductibles, price_per_month, 0 )\n",
        "\n",
        "  def get_yearly_cost(self, bill_amount):\n",
        "    return np.where(bill_amount <= self.deductibles,\n",
        "             bill_amount + self.subscribe_fee,\n",
        "             self.deductibles+self.subscribe_fee+self.copayment_rate*(bill_amount-self.deductibles))\n",
        "\n",
        "\"\"\"\n",
        "You are wellcome to add more insurance products following the example above.\n",
        "\"\"\"\n"
      ]
    },
    {
      "cell_type": "code",
      "execution_count": 13,
      "metadata": {
        "id": "aMLdIHTIKuQO"
      },
      "outputs": [],
      "source": [
        "class SwissCare(Insurance):\n",
        "  def __init__(self, deductibles, price_per_month):\n",
        "    self.plot_line='--'\n",
        "    super().__init__(deductibles, price_per_month, 0.1)\n",
        "    #NOTE: SwissCare has a copayment limit, which is not implemented here.\n",
        "\n",
        "  def get_yearly_cost(self, bill_amount):\n",
        "    return np.where(\n",
        "        bill_amount <= self.deductibles,\n",
        "        bill_amount + self.subscribe_fee,\n",
        "        self.deductibles + self.subscribe_fee + self.copayment_rate*(bill_amount-self.deductibles)) if self.copayment_rate*(bill_amount-self.deductibles) < 700 else np.where(bill_amount <= self.deductibles,\n",
        "        bill_amount + self.subscribe_fee,\n",
        "        self.deductibles + self.subscribe_fee + 700 )"
      ]
    },
    {
      "cell_type": "code",
      "execution_count": 14,
      "metadata": {
        "id": "w6BPUOirbyrH"
      },
      "outputs": [],
      "source": [
        "class SwicaStudentCare(Insurance):\n",
        "  def __init__(self, deductibles, price_per_month, age_range='U25'):\n",
        "    self.plot_line='--'\n",
        "    super().__init__(deductibles, price_per_month, 0, age_range=age_range)\n",
        "\n",
        "  def get_yearly_cost(self, bill_amount):\n",
        "    return np.where(bill_amount <= self.deductibles,\n",
        "             bill_amount + self.subscribe_fee,\n",
        "             self.deductibles+self.subscribe_fee+self.copayment_rate*(bill_amount-self.deductibles))"
      ]
    },
    {
      "cell_type": "code",
      "execution_count": 18,
      "metadata": {
        "id": "dbTTNQ9cTyLV"
      },
      "outputs": [],
      "source": [
        "import plotly.graph_objs as go\n",
        "\n",
        "def plot_insurance_summary(insurances, bill_limit):\n",
        "\n",
        "  fig = go.Figure()\n",
        "\n",
        "  bill_amount = np.arange(0, bill_limit+1, 25)\n",
        "\n",
        "  for insurance in insurances:\n",
        "    fig.add_trace(go.Scatter(x=bill_amount, y=[insurance.get_yearly_cost(x) for x in bill_amount], mode='lines', name=insurance.__class__.__name__+insurance.age_range+\"_\"+str(insurance.deductibles)))\n",
        "\n",
        "  fig.update_layout(title='Insurance comparison',\n",
        "                  xaxis_title='bill_amount',\n",
        "                  yaxis_title='yearly_cost')\n",
        "  fig.show()\n",
        "  return fig\n"
      ]
    },
    {
      "cell_type": "code",
      "execution_count": 19,
      "metadata": {
        "id": "0hozmGeeTxfU"
      },
      "outputs": [],
      "source": [
        "#select insurances you want to analyze\n",
        "study_protects = (SwicaStudentCare(300, 128)\n",
        ", SwicaStudentCare(500, 122.3)\n",
        ",SwicaStudentCare(300, 160, \"26-30\")\n",
        ",SwissCare(2500,38)\n",
        ",SwissCare(2000,49)\n",
        ",SwissCare(500, 84)\n",
        ",SwissCare(300, 109))"
      ]
    },
    {
      "cell_type": "code",
      "execution_count": 20,
      "metadata": {
        "colab": {
          "base_uri": "https://localhost:8080/",
          "height": 297
        },
        "id": "3g8Up3MNcn_4",
        "outputId": "899ef9fa-3260-4721-eb18-8ec4dae04d3f"
      },
      "outputs": [],
      "source": [
        "# the 2rd parameter, you can consider it as your estimated medical bill amount per year\n",
        "# the y-axis value is your actual cost with corresponding insurance plan\n",
        "fig = plot_insurance_summary(study_protects, 5000)\n",
        "# output a html file\n",
        "fig.write_html(\"./docs/insurance_comparison.html\")"
      ]
    }
  ],
  "metadata": {
    "colab": {
      "provenance": []
    },
    "kernelspec": {
      "display_name": "Python 3",
      "name": "python3"
    },
    "language_info": {
      "codemirror_mode": {
        "name": "ipython",
        "version": 3
      },
      "file_extension": ".py",
      "mimetype": "text/x-python",
      "name": "python",
      "nbconvert_exporter": "python",
      "pygments_lexer": "ipython3",
      "version": "3.9.15"
    }
  },
  "nbformat": 4,
  "nbformat_minor": 0
}
